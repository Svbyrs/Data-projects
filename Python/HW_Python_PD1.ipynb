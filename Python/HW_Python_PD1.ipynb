{
 "cells": [
  {
   "cell_type": "code",
   "execution_count": 1,
   "id": "bab5d264-7ce1-41fc-a908-da4488d00900",
   "metadata": {},
   "outputs": [],
   "source": [
    "import pandas as pd\n",
    "\n",
    "df = pd.read_csv(\"ДЗ_Pandas.csv\")"
   ]
  },
  {
   "cell_type": "code",
   "execution_count": 7,
   "id": "5efd74a7-83a6-4161-b255-7237a717f528",
   "metadata": {},
   "outputs": [
    {
     "name": "stdout",
     "output_type": "stream",
     "text": [
      "Столбцы с пропущенными значениями: []\n"
     ]
    }
   ],
   "source": [
    "#1 TASK\n",
    "missing_columns = df.columns[df.isnull().any()]\n",
    "print(\"Столбцы с пропущенными значениями:\", list(missing_columns))"
   ]
  },
  {
   "cell_type": "code",
   "execution_count": 8,
   "id": "7d2be614-0720-4288-b26f-777d429d57d6",
   "metadata": {},
   "outputs": [],
   "source": [
    "df = df.dropna(subset=['Бюджет (млн $)'])"
   ]
  },
  {
   "cell_type": "code",
   "execution_count": 9,
   "id": "997e8379-7c00-424c-a8d7-ae02d0395da2",
   "metadata": {},
   "outputs": [],
   "source": [
    "df['Режиссер'] = df['Режиссер'].fillna('Неизвестен')"
   ]
  },
  {
   "cell_type": "code",
   "execution_count": 10,
   "id": "6f4c52fb-a986-4cd5-b08c-1973d6d091a7",
   "metadata": {},
   "outputs": [],
   "source": [
    "rating_mean = df['Рейтинг'].mean()\n",
    "df['Рейтинг'] = df['Рейтинг'].fillna(rating_mean)"
   ]
  },
  {
   "cell_type": "code",
   "execution_count": 11,
   "id": "a42d9708-89a8-4e7a-9a3c-f4eda15a21be",
   "metadata": {},
   "outputs": [],
   "source": [
    "df = df[~(df['Бюджет (млн $)'].isnull() & df['Сборы (млн $)'].isnull())]"
   ]
  },
  {
   "cell_type": "code",
   "execution_count": 14,
   "id": "af481473-f9f8-488c-9c9a-4752813fd4fc",
   "metadata": {},
   "outputs": [
    {
     "name": "stdout",
     "output_type": "stream",
     "text": [
      "   ID              Название фильма  Год выпуска                Жанр  Рейтинг  \\\n",
      "0           1     Космический эпос         2022          Фантастика     7.80   \n",
      "1           2  Приключения времени         2020         Приключения     8.20   \n",
      "2           3        Сердце океана         2021               Драма     8.50   \n",
      "3           4     Секретные агенты         2019              Боевик     7.60   \n",
      "5           6    Городские легенды         2018             Триллер     7.85   \n",
      "6           7       Звёздные врата         2023  Научная фантастика     7.85   \n",
      "7           8    Возвращение героя         2021              Боевик     7.90   \n",
      "9          10       Тайны прошлого         2022             Мистика     7.10   \n",
      "\n",
      "   Бюджет (млн $)  Сборы (млн $)        Режиссер  \\\n",
      "0           120.0            500      Неизвестен   \n",
      "1            90.0            450  Мария Смирнова   \n",
      "2            60.0            300   Алексей Попов   \n",
      "3            85.0            550  Кирилл Соколов   \n",
      "5            40.0            200   Ольга Петрова   \n",
      "6           130.0            650      Неизвестен   \n",
      "7            95.0            480  Роман Васильев   \n",
      "9            65.0            310  Дмитрий Иванов   \n",
      "\n",
      "                     Основные актеры  \n",
      "0         Анна Петрова, Петр Сидоров  \n",
      "1     Сергей Васильев, Ольга Иванова  \n",
      "2   Дмитрий Кузнецов, Ирина Лебедева  \n",
      "3     Елена Романова, Артем Михайлов  \n",
      "5  Игорь Николаев, Екатерина Волкова  \n",
      "6      Наталья Орлова, Антон Краснов  \n",
      "7     Максим Андреев, Алиса Горшкова  \n",
      "9    Светлана Иванова, Денис Смирнов  \n"
     ]
    }
   ],
   "source": [
    "print(df)"
   ]
  },
  {
   "cell_type": "code",
   "execution_count": 24,
   "id": "11e69982-30ba-483a-86ad-e7c552060029",
   "metadata": {},
   "outputs": [
    {
     "name": "stdout",
     "output_type": "stream",
     "text": [
      "Средний рейтинг и бюджет по жанрам:\n",
      "                 Жанр  средний_рейтинг  средний_бюджет\n",
      "0              Боевик             7.75            90.0\n",
      "1               Драма             8.50            60.0\n",
      "2             Мистика             7.10            65.0\n",
      "3  Научная фантастика             7.85           130.0\n",
      "4         Приключения             8.20            90.0\n",
      "5             Триллер             7.85            40.0\n",
      "6          Фантастика             7.80           120.0\n"
     ]
    }
   ],
   "source": [
    "genre_group = df.groupby('Жанр').agg(\n",
    "    средний_рейтинг=('Рейтинг', 'mean'),\n",
    "    средний_бюджет=('Бюджет (млн $)', 'mean')\n",
    ").reset_index()\n",
    "print(\"Средний рейтинг и бюджет по жанрам:\")\n",
    "print(genre_group)"
   ]
  },
  {
   "cell_type": "code",
   "execution_count": 25,
   "id": "d889751e-0bab-4f74-93ab-790afabad895",
   "metadata": {},
   "outputs": [
    {
     "ename": "KeyError",
     "evalue": "\"Column(s) ['Название'] do not exist\"",
     "output_type": "error",
     "traceback": [
      "\u001b[1;31m---------------------------------------------------------------------------\u001b[0m",
      "\u001b[1;31mKeyError\u001b[0m                                  Traceback (most recent call last)",
      "Cell \u001b[1;32mIn[25], line 1\u001b[0m\n\u001b[1;32m----> 1\u001b[0m year_group \u001b[38;5;241m=\u001b[39m df\u001b[38;5;241m.\u001b[39mgroupby(\u001b[38;5;124m'\u001b[39m\u001b[38;5;124mГод выпуска\u001b[39m\u001b[38;5;124m'\u001b[39m)\u001b[38;5;241m.\u001b[39magg(\n\u001b[0;32m      2\u001b[0m     количество_фильмов\u001b[38;5;241m=\u001b[39m(\u001b[38;5;124m'\u001b[39m\u001b[38;5;124mНазвание\u001b[39m\u001b[38;5;124m'\u001b[39m, \u001b[38;5;124m'\u001b[39m\u001b[38;5;124mcount\u001b[39m\u001b[38;5;124m'\u001b[39m),\n\u001b[0;32m      3\u001b[0m     суммарные_сборы\u001b[38;5;241m=\u001b[39m(\u001b[38;5;124m'\u001b[39m\u001b[38;5;124mСборы (млн $)\u001b[39m\u001b[38;5;124m'\u001b[39m, \u001b[38;5;124m'\u001b[39m\u001b[38;5;124msum\u001b[39m\u001b[38;5;124m'\u001b[39m)\n\u001b[0;32m      4\u001b[0m )\u001b[38;5;241m.\u001b[39mreset_index()\n\u001b[0;32m      5\u001b[0m \u001b[38;5;28mprint\u001b[39m(\u001b[38;5;124m\"\u001b[39m\u001b[38;5;130;01m\\n\u001b[39;00m\u001b[38;5;124mОбщее количество фильмов и суммарные сборы по годам:\u001b[39m\u001b[38;5;124m\"\u001b[39m)\n\u001b[0;32m      6\u001b[0m \u001b[38;5;28mprint\u001b[39m(year_group)\n",
      "File \u001b[1;32m~\\anaconda3\\Lib\\site-packages\\pandas\\core\\groupby\\generic.py:1432\u001b[0m, in \u001b[0;36mDataFrameGroupBy.aggregate\u001b[1;34m(self, func, engine, engine_kwargs, *args, **kwargs)\u001b[0m\n\u001b[0;32m   1429\u001b[0m     kwargs[\u001b[38;5;124m\"\u001b[39m\u001b[38;5;124mengine_kwargs\u001b[39m\u001b[38;5;124m\"\u001b[39m] \u001b[38;5;241m=\u001b[39m engine_kwargs\n\u001b[0;32m   1431\u001b[0m op \u001b[38;5;241m=\u001b[39m GroupByApply(\u001b[38;5;28mself\u001b[39m, func, args\u001b[38;5;241m=\u001b[39margs, kwargs\u001b[38;5;241m=\u001b[39mkwargs)\n\u001b[1;32m-> 1432\u001b[0m result \u001b[38;5;241m=\u001b[39m op\u001b[38;5;241m.\u001b[39magg()\n\u001b[0;32m   1433\u001b[0m \u001b[38;5;28;01mif\u001b[39;00m \u001b[38;5;129;01mnot\u001b[39;00m is_dict_like(func) \u001b[38;5;129;01mand\u001b[39;00m result \u001b[38;5;129;01mis\u001b[39;00m \u001b[38;5;129;01mnot\u001b[39;00m \u001b[38;5;28;01mNone\u001b[39;00m:\n\u001b[0;32m   1434\u001b[0m     \u001b[38;5;66;03m# GH #52849\u001b[39;00m\n\u001b[0;32m   1435\u001b[0m     \u001b[38;5;28;01mif\u001b[39;00m \u001b[38;5;129;01mnot\u001b[39;00m \u001b[38;5;28mself\u001b[39m\u001b[38;5;241m.\u001b[39mas_index \u001b[38;5;129;01mand\u001b[39;00m is_list_like(func):\n",
      "File \u001b[1;32m~\\anaconda3\\Lib\\site-packages\\pandas\\core\\apply.py:190\u001b[0m, in \u001b[0;36mApply.agg\u001b[1;34m(self)\u001b[0m\n\u001b[0;32m    187\u001b[0m     \u001b[38;5;28;01mreturn\u001b[39;00m \u001b[38;5;28mself\u001b[39m\u001b[38;5;241m.\u001b[39mapply_str()\n\u001b[0;32m    189\u001b[0m \u001b[38;5;28;01mif\u001b[39;00m is_dict_like(func):\n\u001b[1;32m--> 190\u001b[0m     \u001b[38;5;28;01mreturn\u001b[39;00m \u001b[38;5;28mself\u001b[39m\u001b[38;5;241m.\u001b[39magg_dict_like()\n\u001b[0;32m    191\u001b[0m \u001b[38;5;28;01melif\u001b[39;00m is_list_like(func):\n\u001b[0;32m    192\u001b[0m     \u001b[38;5;66;03m# we require a list, but not a 'str'\u001b[39;00m\n\u001b[0;32m    193\u001b[0m     \u001b[38;5;28;01mreturn\u001b[39;00m \u001b[38;5;28mself\u001b[39m\u001b[38;5;241m.\u001b[39magg_list_like()\n",
      "File \u001b[1;32m~\\anaconda3\\Lib\\site-packages\\pandas\\core\\apply.py:423\u001b[0m, in \u001b[0;36mApply.agg_dict_like\u001b[1;34m(self)\u001b[0m\n\u001b[0;32m    415\u001b[0m \u001b[38;5;28;01mdef\u001b[39;00m \u001b[38;5;21magg_dict_like\u001b[39m(\u001b[38;5;28mself\u001b[39m) \u001b[38;5;241m-\u001b[39m\u001b[38;5;241m>\u001b[39m DataFrame \u001b[38;5;241m|\u001b[39m Series:\n\u001b[0;32m    416\u001b[0m \u001b[38;5;250m    \u001b[39m\u001b[38;5;124;03m\"\"\"\u001b[39;00m\n\u001b[0;32m    417\u001b[0m \u001b[38;5;124;03m    Compute aggregation in the case of a dict-like argument.\u001b[39;00m\n\u001b[0;32m    418\u001b[0m \n\u001b[1;32m   (...)\u001b[0m\n\u001b[0;32m    421\u001b[0m \u001b[38;5;124;03m    Result of aggregation.\u001b[39;00m\n\u001b[0;32m    422\u001b[0m \u001b[38;5;124;03m    \"\"\"\u001b[39;00m\n\u001b[1;32m--> 423\u001b[0m     \u001b[38;5;28;01mreturn\u001b[39;00m \u001b[38;5;28mself\u001b[39m\u001b[38;5;241m.\u001b[39magg_or_apply_dict_like(op_name\u001b[38;5;241m=\u001b[39m\u001b[38;5;124m\"\u001b[39m\u001b[38;5;124magg\u001b[39m\u001b[38;5;124m\"\u001b[39m)\n",
      "File \u001b[1;32m~\\anaconda3\\Lib\\site-packages\\pandas\\core\\apply.py:1608\u001b[0m, in \u001b[0;36mGroupByApply.agg_or_apply_dict_like\u001b[1;34m(self, op_name)\u001b[0m\n\u001b[0;32m   1603\u001b[0m     kwargs\u001b[38;5;241m.\u001b[39mupdate({\u001b[38;5;124m\"\u001b[39m\u001b[38;5;124mengine\u001b[39m\u001b[38;5;124m\"\u001b[39m: engine, \u001b[38;5;124m\"\u001b[39m\u001b[38;5;124mengine_kwargs\u001b[39m\u001b[38;5;124m\"\u001b[39m: engine_kwargs})\n\u001b[0;32m   1605\u001b[0m \u001b[38;5;28;01mwith\u001b[39;00m com\u001b[38;5;241m.\u001b[39mtemp_setattr(\n\u001b[0;32m   1606\u001b[0m     obj, \u001b[38;5;124m\"\u001b[39m\u001b[38;5;124mas_index\u001b[39m\u001b[38;5;124m\"\u001b[39m, \u001b[38;5;28;01mTrue\u001b[39;00m, condition\u001b[38;5;241m=\u001b[39m\u001b[38;5;28mhasattr\u001b[39m(obj, \u001b[38;5;124m\"\u001b[39m\u001b[38;5;124mas_index\u001b[39m\u001b[38;5;124m\"\u001b[39m)\n\u001b[0;32m   1607\u001b[0m ):\n\u001b[1;32m-> 1608\u001b[0m     result_index, result_data \u001b[38;5;241m=\u001b[39m \u001b[38;5;28mself\u001b[39m\u001b[38;5;241m.\u001b[39mcompute_dict_like(\n\u001b[0;32m   1609\u001b[0m         op_name, selected_obj, selection, kwargs\n\u001b[0;32m   1610\u001b[0m     )\n\u001b[0;32m   1611\u001b[0m result \u001b[38;5;241m=\u001b[39m \u001b[38;5;28mself\u001b[39m\u001b[38;5;241m.\u001b[39mwrap_results_dict_like(selected_obj, result_index, result_data)\n\u001b[0;32m   1612\u001b[0m \u001b[38;5;28;01mreturn\u001b[39;00m result\n",
      "File \u001b[1;32m~\\anaconda3\\Lib\\site-packages\\pandas\\core\\apply.py:462\u001b[0m, in \u001b[0;36mApply.compute_dict_like\u001b[1;34m(self, op_name, selected_obj, selection, kwargs)\u001b[0m\n\u001b[0;32m    460\u001b[0m is_groupby \u001b[38;5;241m=\u001b[39m \u001b[38;5;28misinstance\u001b[39m(obj, (DataFrameGroupBy, SeriesGroupBy))\n\u001b[0;32m    461\u001b[0m func \u001b[38;5;241m=\u001b[39m cast(AggFuncTypeDict, \u001b[38;5;28mself\u001b[39m\u001b[38;5;241m.\u001b[39mfunc)\n\u001b[1;32m--> 462\u001b[0m func \u001b[38;5;241m=\u001b[39m \u001b[38;5;28mself\u001b[39m\u001b[38;5;241m.\u001b[39mnormalize_dictlike_arg(op_name, selected_obj, func)\n\u001b[0;32m    464\u001b[0m is_non_unique_col \u001b[38;5;241m=\u001b[39m (\n\u001b[0;32m    465\u001b[0m     selected_obj\u001b[38;5;241m.\u001b[39mndim \u001b[38;5;241m==\u001b[39m \u001b[38;5;241m2\u001b[39m\n\u001b[0;32m    466\u001b[0m     \u001b[38;5;129;01mand\u001b[39;00m selected_obj\u001b[38;5;241m.\u001b[39mcolumns\u001b[38;5;241m.\u001b[39mnunique() \u001b[38;5;241m<\u001b[39m \u001b[38;5;28mlen\u001b[39m(selected_obj\u001b[38;5;241m.\u001b[39mcolumns)\n\u001b[0;32m    467\u001b[0m )\n\u001b[0;32m    469\u001b[0m \u001b[38;5;28;01mif\u001b[39;00m selected_obj\u001b[38;5;241m.\u001b[39mndim \u001b[38;5;241m==\u001b[39m \u001b[38;5;241m1\u001b[39m:\n\u001b[0;32m    470\u001b[0m     \u001b[38;5;66;03m# key only used for output\u001b[39;00m\n",
      "File \u001b[1;32m~\\anaconda3\\Lib\\site-packages\\pandas\\core\\apply.py:663\u001b[0m, in \u001b[0;36mApply.normalize_dictlike_arg\u001b[1;34m(self, how, obj, func)\u001b[0m\n\u001b[0;32m    661\u001b[0m     cols \u001b[38;5;241m=\u001b[39m Index(\u001b[38;5;28mlist\u001b[39m(func\u001b[38;5;241m.\u001b[39mkeys()))\u001b[38;5;241m.\u001b[39mdifference(obj\u001b[38;5;241m.\u001b[39mcolumns, sort\u001b[38;5;241m=\u001b[39m\u001b[38;5;28;01mTrue\u001b[39;00m)\n\u001b[0;32m    662\u001b[0m     \u001b[38;5;28;01mif\u001b[39;00m \u001b[38;5;28mlen\u001b[39m(cols) \u001b[38;5;241m>\u001b[39m \u001b[38;5;241m0\u001b[39m:\n\u001b[1;32m--> 663\u001b[0m         \u001b[38;5;28;01mraise\u001b[39;00m \u001b[38;5;167;01mKeyError\u001b[39;00m(\u001b[38;5;124mf\u001b[39m\u001b[38;5;124m\"\u001b[39m\u001b[38;5;124mColumn(s) \u001b[39m\u001b[38;5;132;01m{\u001b[39;00m\u001b[38;5;28mlist\u001b[39m(cols)\u001b[38;5;132;01m}\u001b[39;00m\u001b[38;5;124m do not exist\u001b[39m\u001b[38;5;124m\"\u001b[39m)\n\u001b[0;32m    665\u001b[0m aggregator_types \u001b[38;5;241m=\u001b[39m (\u001b[38;5;28mlist\u001b[39m, \u001b[38;5;28mtuple\u001b[39m, \u001b[38;5;28mdict\u001b[39m)\n\u001b[0;32m    667\u001b[0m \u001b[38;5;66;03m# if we have a dict of any non-scalars\u001b[39;00m\n\u001b[0;32m    668\u001b[0m \u001b[38;5;66;03m# eg. {'A' : ['mean']}, normalize all to\u001b[39;00m\n\u001b[0;32m    669\u001b[0m \u001b[38;5;66;03m# be list-likes\u001b[39;00m\n\u001b[0;32m    670\u001b[0m \u001b[38;5;66;03m# Cannot use func.values() because arg may be a Series\u001b[39;00m\n",
      "\u001b[1;31mKeyError\u001b[0m: \"Column(s) ['Название'] do not exist\""
     ]
    }
   ],
   "source": [
    "year_group = df.groupby('Год выпуска').agg(\n",
    "    количество_фильмов=('Название', 'count'),\n",
    "    суммарные_сборы=('Сборы (млн $)', 'sum')\n",
    ").reset_index()\n",
    "print(\"\\nОбщее количество фильмов и суммарные сборы по годам:\")\n",
    "print(year_group)"
   ]
  },
  {
   "cell_type": "code",
   "execution_count": 26,
   "id": "1aa81573-8cbf-42f0-af91-503aa30018cc",
   "metadata": {},
   "outputs": [
    {
     "name": "stdout",
     "output_type": "stream",
     "text": [
      "\n",
      "Средний рейтинг по жанру и году выпуска:\n",
      "                 Жанр  Год выпуска  средний_рейтинг\n",
      "0              Боевик         2019             7.60\n",
      "1              Боевик         2021             7.90\n",
      "2               Драма         2021             8.50\n",
      "3             Мистика         2022             7.10\n",
      "4  Научная фантастика         2023             7.85\n",
      "5         Приключения         2020             8.20\n",
      "6             Триллер         2018             7.85\n",
      "7          Фантастика         2022             7.80\n"
     ]
    }
   ],
   "source": [
    "combined_group = df.groupby(['Жанр', 'Год выпуска']).agg(\n",
    "    средний_рейтинг=('Рейтинг', 'mean')\n",
    ").reset_index()\n",
    "print(\"\\nСредний рейтинг по жанру и году выпуска:\")\n",
    "print(combined_group)"
   ]
  },
  {
   "cell_type": "code",
   "execution_count": 27,
   "id": "6125004b-5e2c-472f-9f93-d117c21af93b",
   "metadata": {},
   "outputs": [],
   "source": [
    "#3 TASK\n",
    "genre_rating = df.groupby('Жанр').agg(\n",
    "    средний_рейтинг=('Рейтинг', 'mean')\n",
    ").reset_index()"
   ]
  },
  {
   "cell_type": "code",
   "execution_count": 28,
   "id": "ad4c3d45-1082-4804-87f4-daf15b8727ed",
   "metadata": {},
   "outputs": [
    {
     "name": "stdout",
     "output_type": "stream",
     "text": [
      "Средний рейтинг по жанрам (отсортировано):\n",
      "                 Жанр  средний_рейтинг\n",
      "1               Драма             8.50\n",
      "4         Приключения             8.20\n",
      "3  Научная фантастика             7.85\n",
      "5             Триллер             7.85\n",
      "6          Фантастика             7.80\n",
      "0              Боевик             7.75\n",
      "2             Мистика             7.10\n"
     ]
    }
   ],
   "source": [
    "genre_rating_sorted = genre_rating.sort_values(by='средний_рейтинг', ascending=False)\n",
    "print(\"Средний рейтинг по жанрам (отсортировано):\")\n",
    "print(genre_rating_sorted)"
   ]
  },
  {
   "cell_type": "code",
   "execution_count": 29,
   "id": "2f17cf77-5d76-4822-aaaf-ec6de37fb609",
   "metadata": {},
   "outputs": [
    {
     "name": "stdout",
     "output_type": "stream",
     "text": [
      "\n",
      "Количество фильмов, выпущенных в каждом году (отсортировано по годам):\n",
      "Год выпуска\n",
      "2018    1\n",
      "2019    1\n",
      "2020    1\n",
      "2021    2\n",
      "2022    2\n",
      "2023    1\n",
      "Name: count, dtype: int64\n"
     ]
    }
   ],
   "source": [
    "year_counts = df['Год выпуска'].value_counts().sort_index()\n",
    "print(\"\\nКоличество фильмов, выпущенных в каждом году (отсортировано по годам):\")\n",
    "print(year_counts)"
   ]
  },
  {
   "cell_type": "code",
   "execution_count": 30,
   "id": "b8835e14-bd3b-4a1e-8e7b-aeb8b012c6fe",
   "metadata": {},
   "outputs": [],
   "source": [
    "director_genre_revenue = df.groupby(['Режиссер', 'Жанр']).agg(\n",
    "    общие_сборы=('Сборы (млн $)', 'sum')\n",
    ").reset_index()"
   ]
  },
  {
   "cell_type": "code",
   "execution_count": 31,
   "id": "c6fa11ae-797a-45d4-82b2-e98e54c63c35",
   "metadata": {},
   "outputs": [
    {
     "name": "stdout",
     "output_type": "stream",
     "text": [
      "\n",
      "Общие сборы фильмов по режиссеру и жанру (отсортировано):\n",
      "         Режиссер                Жанр  общие_сборы\n",
      "4      Неизвестен  Научная фантастика          650\n",
      "2  Кирилл Соколов              Боевик          550\n",
      "5      Неизвестен          Фантастика          500\n",
      "7  Роман Васильев              Боевик          480\n",
      "3  Мария Смирнова         Приключения          450\n",
      "1  Дмитрий Иванов             Мистика          310\n",
      "0   Алексей Попов               Драма          300\n",
      "6   Ольга Петрова             Триллер          200\n"
     ]
    }
   ],
   "source": [
    "director_genre_revenue_sorted = director_genre_revenue.sort_values(by='общие_сборы', ascending=False)\n",
    "print(\"\\nОбщие сборы фильмов по режиссеру и жанру (отсортировано):\")\n",
    "print(director_genre_revenue_sorted)"
   ]
  },
  {
   "cell_type": "code",
   "execution_count": null,
   "id": "e9a237ad-c770-47ca-b604-58b33500a0e4",
   "metadata": {},
   "outputs": [],
   "source": []
  }
 ],
 "metadata": {
  "kernelspec": {
   "display_name": "Python 3 (ipykernel)",
   "language": "python",
   "name": "python3"
  },
  "language_info": {
   "codemirror_mode": {
    "name": "ipython",
    "version": 3
   },
   "file_extension": ".py",
   "mimetype": "text/x-python",
   "name": "python",
   "nbconvert_exporter": "python",
   "pygments_lexer": "ipython3",
   "version": "3.12.7"
  }
 },
 "nbformat": 4,
 "nbformat_minor": 5
}
