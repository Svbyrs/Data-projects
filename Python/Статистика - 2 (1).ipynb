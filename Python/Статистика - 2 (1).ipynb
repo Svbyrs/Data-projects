{
 "cells": [
  {
   "cell_type": "markdown",
   "metadata": {},
   "source": [
    "# Домашнее задание"
   ]
  },
  {
   "cell_type": "code",
   "execution_count": 1,
   "metadata": {
    "_cell_guid": "0929605b-b62d-4707-9dbb-40f1f8beb5a5",
    "_uuid": "8f7da4e8-ebec-4cbe-b6c1-43ab97026f9e"
   },
   "outputs": [],
   "source": [
    "# Импортируем библиотеки\n",
    "\n",
    "import numpy as np \n",
    "import pandas as pd\n",
    "import matplotlib.pyplot as plt\n",
    "import seaborn as sns\n",
    "%matplotlib inline"
   ]
  },
  {
   "cell_type": "code",
   "execution_count": 2,
   "metadata": {
    "_cell_guid": "0af495a2-37a3-4b07-9d57-9764165c69af",
    "_uuid": "d49d8767-6410-4041-858b-c300815ed6bd",
    "scrolled": true
   },
   "outputs": [],
   "source": [
    "data = pd.read_csv('500_Person_Gender_Height_Weight_Index.csv')"
   ]
  },
  {
   "cell_type": "code",
   "execution_count": 3,
   "metadata": {},
   "outputs": [
    {
     "data": {
      "text/html": [
       "<div>\n",
       "<style scoped>\n",
       "    .dataframe tbody tr th:only-of-type {\n",
       "        vertical-align: middle;\n",
       "    }\n",
       "\n",
       "    .dataframe tbody tr th {\n",
       "        vertical-align: top;\n",
       "    }\n",
       "\n",
       "    .dataframe thead th {\n",
       "        text-align: right;\n",
       "    }\n",
       "</style>\n",
       "<table border=\"1\" class=\"dataframe\">\n",
       "  <thead>\n",
       "    <tr style=\"text-align: right;\">\n",
       "      <th></th>\n",
       "      <th>Gender</th>\n",
       "      <th>Height</th>\n",
       "      <th>Weight</th>\n",
       "    </tr>\n",
       "  </thead>\n",
       "  <tbody>\n",
       "    <tr>\n",
       "      <th>0</th>\n",
       "      <td>Male</td>\n",
       "      <td>174</td>\n",
       "      <td>96</td>\n",
       "    </tr>\n",
       "    <tr>\n",
       "      <th>1</th>\n",
       "      <td>Male</td>\n",
       "      <td>189</td>\n",
       "      <td>87</td>\n",
       "    </tr>\n",
       "    <tr>\n",
       "      <th>2</th>\n",
       "      <td>Female</td>\n",
       "      <td>185</td>\n",
       "      <td>110</td>\n",
       "    </tr>\n",
       "    <tr>\n",
       "      <th>3</th>\n",
       "      <td>Female</td>\n",
       "      <td>195</td>\n",
       "      <td>104</td>\n",
       "    </tr>\n",
       "    <tr>\n",
       "      <th>4</th>\n",
       "      <td>Male</td>\n",
       "      <td>149</td>\n",
       "      <td>61</td>\n",
       "    </tr>\n",
       "  </tbody>\n",
       "</table>\n",
       "</div>"
      ],
      "text/plain": [
       "   Gender  Height  Weight\n",
       "0    Male     174      96\n",
       "1    Male     189      87\n",
       "2  Female     185     110\n",
       "3  Female     195     104\n",
       "4    Male     149      61"
      ]
     },
     "execution_count": 3,
     "metadata": {},
     "output_type": "execute_result"
    }
   ],
   "source": [
    "# Удаляем ненужный столбец\n",
    "data.drop('Index', axis = 1, inplace = True)\n",
    "data.head()"
   ]
  },
  {
   "cell_type": "code",
   "execution_count": 4,
   "metadata": {},
   "outputs": [
    {
     "data": {
      "text/plain": [
       "(500, 3)"
      ]
     },
     "execution_count": 4,
     "metadata": {},
     "output_type": "execute_result"
    }
   ],
   "source": [
    "data.shape"
   ]
  },
  {
   "cell_type": "markdown",
   "metadata": {},
   "source": [
    "## 1. Создайте колонку BMI (индекс массы тела), которая считается по формуле: BMI = (Вес в кг) / (Рост в метрах)^2. Учтите, что ваш текущий рост в см, не метры."
   ]
  },
  {
   "cell_type": "code",
   "execution_count": 5,
   "metadata": {},
   "outputs": [
    {
     "data": {
      "text/html": [
       "<div>\n",
       "<style scoped>\n",
       "    .dataframe tbody tr th:only-of-type {\n",
       "        vertical-align: middle;\n",
       "    }\n",
       "\n",
       "    .dataframe tbody tr th {\n",
       "        vertical-align: top;\n",
       "    }\n",
       "\n",
       "    .dataframe thead th {\n",
       "        text-align: right;\n",
       "    }\n",
       "</style>\n",
       "<table border=\"1\" class=\"dataframe\">\n",
       "  <thead>\n",
       "    <tr style=\"text-align: right;\">\n",
       "      <th></th>\n",
       "      <th>Gender</th>\n",
       "      <th>Height</th>\n",
       "      <th>Weight</th>\n",
       "      <th>Height_m</th>\n",
       "      <th>BMI</th>\n",
       "    </tr>\n",
       "  </thead>\n",
       "  <tbody>\n",
       "    <tr>\n",
       "      <th>0</th>\n",
       "      <td>Male</td>\n",
       "      <td>174</td>\n",
       "      <td>96</td>\n",
       "      <td>1.74</td>\n",
       "      <td>31.708284</td>\n",
       "    </tr>\n",
       "    <tr>\n",
       "      <th>1</th>\n",
       "      <td>Male</td>\n",
       "      <td>189</td>\n",
       "      <td>87</td>\n",
       "      <td>1.89</td>\n",
       "      <td>24.355421</td>\n",
       "    </tr>\n",
       "    <tr>\n",
       "      <th>2</th>\n",
       "      <td>Female</td>\n",
       "      <td>185</td>\n",
       "      <td>110</td>\n",
       "      <td>1.85</td>\n",
       "      <td>32.140248</td>\n",
       "    </tr>\n",
       "    <tr>\n",
       "      <th>3</th>\n",
       "      <td>Female</td>\n",
       "      <td>195</td>\n",
       "      <td>104</td>\n",
       "      <td>1.95</td>\n",
       "      <td>27.350427</td>\n",
       "    </tr>\n",
       "    <tr>\n",
       "      <th>4</th>\n",
       "      <td>Male</td>\n",
       "      <td>149</td>\n",
       "      <td>61</td>\n",
       "      <td>1.49</td>\n",
       "      <td>27.476240</td>\n",
       "    </tr>\n",
       "  </tbody>\n",
       "</table>\n",
       "</div>"
      ],
      "text/plain": [
       "   Gender  Height  Weight  Height_m        BMI\n",
       "0    Male     174      96      1.74  31.708284\n",
       "1    Male     189      87      1.89  24.355421\n",
       "2  Female     185     110      1.85  32.140248\n",
       "3  Female     195     104      1.95  27.350427\n",
       "4    Male     149      61      1.49  27.476240"
      ]
     },
     "execution_count": 5,
     "metadata": {},
     "output_type": "execute_result"
    }
   ],
   "source": [
    "# Добавление колонки BMI: рост переводим из см в метры\n",
    "data['Height_m'] = data['Height'] / 100\n",
    "data['BMI'] = data['Weight'] / (data['Height_m'] ** 2)\n",
    "\n",
    "# Вывод первых строк обновлённого датафрейма\n",
    "data.head()"
   ]
  },
  {
   "cell_type": "markdown",
   "metadata": {
    "_cell_guid": "7f3fc64b-1a1f-4f51-8be1-d03b5d873607",
    "_uuid": "db2b2ec1-1f02-487f-b4b1-c9e6f0aa12c2"
   },
   "source": [
    "## 2. Посчитайте среднее значение, медиану, и моду для роста, веса, BMI."
   ]
  },
  {
   "cell_type": "code",
   "execution_count": 7,
   "metadata": {},
   "outputs": [],
   "source": [
    "# Добавление колонки BMI\n",
    "data['Height_m'] = data['Height'] / 100\n",
    "data['BMI'] = data['Weight'] / (data['Height_m'] ** 2)"
   ]
  },
  {
   "cell_type": "code",
   "execution_count": 8,
   "metadata": {},
   "outputs": [],
   "source": [
    "# Расчёт статистик\n",
    "mean_values = data[['Height', 'Weight', 'BMI']].mean()\n",
    "median_values = data[['Height', 'Weight', 'BMI']].median()\n",
    "mode_values = data[['Height', 'Weight', 'BMI']].mode().iloc[0]"
   ]
  },
  {
   "cell_type": "code",
   "execution_count": 9,
   "metadata": {},
   "outputs": [
    {
     "name": "stdout",
     "output_type": "stream",
     "text": [
      "Средние значения:\n",
      " Height    169.944000\n",
      "Weight    106.000000\n",
      "BMI        37.765284\n",
      "dtype: float64\n",
      "\n",
      "Медианы:\n",
      " Height    170.500000\n",
      "Weight    106.000000\n",
      "BMI        36.956941\n",
      "dtype: float64\n",
      "\n",
      "Моды:\n",
      " Height    188.00000\n",
      "Weight     50.00000\n",
      "BMI        37.34559\n",
      "Name: 0, dtype: float64\n"
     ]
    }
   ],
   "source": [
    "# Вывод результатов\n",
    "print(\"Средние значения:\\n\", mean_values)\n",
    "print(\"\\nМедианы:\\n\", median_values)\n",
    "print(\"\\nМоды:\\n\", mode_values)"
   ]
  },
  {
   "cell_type": "markdown",
   "metadata": {
    "_cell_guid": "67ee81b6-142e-4c53-8598-a49f2aa66c1d",
    "_uuid": "5e316eb6-e714-43c7-aab1-d09bd955563c"
   },
   "source": [
    "## 3. Найдите range (диапазон, т.е. макс - мин), и стандартное отклонение для роста, веса, BMI. И расскажите что это означает."
   ]
  },
  {
   "cell_type": "code",
   "execution_count": 12,
   "metadata": {},
   "outputs": [],
   "source": [
    "# Расчёт диапазона (range = max - min)\n",
    "range_values = data[['Height', 'Weight', 'BMI']].max() - data[['Height', 'Weight', 'BMI']].min()"
   ]
  },
  {
   "cell_type": "code",
   "execution_count": 13,
   "metadata": {},
   "outputs": [],
   "source": [
    "# Расчёт стандартного отклонения\n",
    "std_values = data[['Height', 'Weight', 'BMI']].std()"
   ]
  },
  {
   "cell_type": "code",
   "execution_count": 14,
   "metadata": {},
   "outputs": [
    {
     "name": "stdout",
     "output_type": "stream",
     "text": [
      "Диапазон (Range):\n",
      " Height     59.000000\n",
      "Weight    110.000000\n",
      "BMI        66.099601\n",
      "dtype: float64\n",
      "\n",
      "Стандартное отклонение (Standard Deviation):\n",
      " Height    16.375261\n",
      "Weight    32.382607\n",
      "BMI       13.965620\n",
      "dtype: float64\n"
     ]
    }
   ],
   "source": [
    "# Вывод результатов\n",
    "print(\"Диапазон (Range):\\n\", range_values)\n",
    "print(\"\\nСтандартное отклонение (Standard Deviation):\\n\", std_values)"
   ]
  },
  {
   "cell_type": "markdown",
   "metadata": {
    "_cell_guid": "b134f1ad-51c6-4c24-aca7-d7655566f6ed",
    "_uuid": "0d5f16ac-22d9-4791-a0ec-401094e94c58"
   },
   "source": [
    "## 4. Найдите 15-й процентиль и 90-й процентиль для роста, веса, BMI. Что это означает простыми словами?"
   ]
  },
  {
   "cell_type": "code",
   "execution_count": 15,
   "metadata": {},
   "outputs": [],
   "source": [
    "# Вычисление 15-го и 90-го процентилей\n",
    "percentiles_15 = data[['Height', 'Weight', 'BMI']].quantile(0.15)\n",
    "percentiles_90 = data[['Height', 'Weight', 'BMI']].quantile(0.90)"
   ]
  },
  {
   "cell_type": "code",
   "execution_count": 16,
   "metadata": {},
   "outputs": [
    {
     "name": "stdout",
     "output_type": "stream",
     "text": [
      "15-й процентиль:\n",
      " Height    150.000000\n",
      "Weight     67.000000\n",
      "BMI        22.761869\n",
      "Name: 0.15, dtype: float64\n",
      "\n",
      "90-й процентиль:\n",
      " Height    191.000000\n",
      "Weight    150.100000\n",
      "BMI        57.703274\n",
      "Name: 0.9, dtype: float64\n"
     ]
    }
   ],
   "source": [
    "# Вывод результатов\n",
    "print(\"15-й процентиль:\\n\", percentiles_15)\n",
    "print(\"\\n90-й процентиль:\\n\", percentiles_90)"
   ]
  },
  {
   "cell_type": "code",
   "execution_count": 18,
   "metadata": {},
   "outputs": [],
   "source": [
    "# Что это означает простыми словами:\n",
    "# 15-й процентиль — это значение, ниже которого находится 15% всех наблюдений. \n",
    "# Например, если 15-й процентиль роста — 155 см, это значит, что 15% людей имеют рост ниже 155 см.\n",
    "# 90-й процентиль — это значение, ниже которого находится 90% всех наблюдений. То есть только 10% людей выше этого значения."
   ]
  },
  {
   "cell_type": "markdown",
   "metadata": {
    "_cell_guid": "d1f04b8f-8806-440c-82e0-5b8a6785ef74",
    "_uuid": "830ccdf7-8370-42d2-a5cd-ff1ec1ff7672"
   },
   "source": [
    "## 5. Создайте гистограмму для роста, веса, BMI."
   ]
  },
  {
   "cell_type": "code",
   "execution_count": 21,
   "metadata": {},
   "outputs": [
    {
     "data": {
      "image/png": "[encoded data removed]",
      "text/plain": [
       "<Figure size 1500x400 with 1 Axes>"
      ]
     },
     "metadata": {},
     "output_type": "display_data"
    }
   ],
   "source": [
    "# Построение гистограмм\n",
    "plt.figure(figsize=(15, 4))\n",
    "\n",
    "# Гистограмма роста\n",
    "plt.subplot(1, 3, 1)\n",
    "plt.hist(data['Height'], bins=20, color='skyblue', edgecolor='black')\n",
    "plt.title('Гистограмма роста')\n",
    "plt.xlabel('Рост (см)')\n",
    "plt.ylabel('Количество')\n",
    "\n",
    "plt.tight_layout()\n",
    "plt.show()"
   ]
  },
  {
   "cell_type": "code",
   "execution_count": 23,
   "metadata": {},
   "outputs": [
    {
     "data": {
      "image/png": "[encoded data removed]",
      "text/plain": [
       "<Figure size 1500x400 with 1 Axes>"
      ]
     },
     "metadata": {},
     "output_type": "display_data"
    }
   ],
   "source": [
    "# Построение гистограмм\n",
    "plt.figure(figsize=(15, 4))\n",
    "\n",
    "# Гистограмма веса\n",
    "plt.subplot(1, 3, 2)\n",
    "plt.hist(data['Weight'], bins=20, color='salmon', edgecolor='black')\n",
    "plt.title('Гистограмма веса')\n",
    "plt.xlabel('Вес (кг)')\n",
    "plt.ylabel('Количество')\n",
    "\n",
    "plt.tight_layout()\n",
    "plt.show()"
   ]
  },
  {
   "cell_type": "code",
   "execution_count": 24,
   "metadata": {},
   "outputs": [
    {
     "data": {
      "image/png": "[encoded data removed]",
      "text/plain": [
       "<Figure size 1500x400 with 1 Axes>"
      ]
     },
     "metadata": {},
     "output_type": "display_data"
    }
   ],
   "source": [
    "# Построение гистограмм\n",
    "plt.figure(figsize=(15, 4))\n",
    "\n",
    "# Гистограмма BMI\n",
    "plt.subplot(1, 3, 3)\n",
    "plt.hist(data['BMI'], bins=20, color='lightgreen', edgecolor='black')\n",
    "plt.title('Гистограмма BMI')\n",
    "plt.xlabel('BMI')\n",
    "plt.ylabel('Количество')\n",
    "\n",
    "plt.tight_layout()\n",
    "plt.show()"
   ]
  },
  {
   "cell_type": "markdown",
   "metadata": {
    "_cell_guid": "914c2ab5-0d51-4146-b3a5-3b1e418197c9",
    "_uuid": "50a61549-8242-44c5-8453-be2652327881"
   },
   "source": [
    "## 6. Создайте box plot для роста, веса, BMI в разрезе пола. Что вы видите, опишите?"
   ]
  },
  {
   "cell_type": "code",
   "execution_count": 25,
   "metadata": {},
   "outputs": [
    {
     "name": "stderr",
     "output_type": "stream",
     "text": [
      "C:\\Users\\SanzharSabyr\\AppData\\Local\\Temp\\ipykernel_9448\\2668394390.py:6: FutureWarning: \n",
      "\n",
      "Passing `palette` without assigning `hue` is deprecated and will be removed in v0.14.0. Assign the `x` variable to `hue` and set `legend=False` for the same effect.\n",
      "\n",
      "  sns.boxplot(x='Gender', y='Height', data=data, palette='pastel')\n"
     ]
    },
    {
     "data": {
      "image/png": "[encoded data removed]",
      "text/plain": [
       "<Figure size 1800x500 with 1 Axes>"
      ]
     },
     "metadata": {},
     "output_type": "display_data"
    }
   ],
   "source": [
    "# Построение box plot\n",
    "plt.figure(figsize=(18, 5))\n",
    "\n",
    "# Рост\n",
    "plt.subplot(1, 3, 1)\n",
    "sns.boxplot(x='Gender', y='Height', data=data, palette='pastel')\n",
    "plt.title('Box Plot роста по полу')\n",
    "\n",
    "plt.tight_layout()\n",
    "plt.show()"
   ]
  },
  {
   "cell_type": "code",
   "execution_count": 26,
   "metadata": {},
   "outputs": [
    {
     "name": "stderr",
     "output_type": "stream",
     "text": [
      "C:\\Users\\SanzharSabyr\\AppData\\Local\\Temp\\ipykernel_9448\\752339244.py:6: FutureWarning: \n",
      "\n",
      "Passing `palette` without assigning `hue` is deprecated and will be removed in v0.14.0. Assign the `x` variable to `hue` and set `legend=False` for the same effect.\n",
      "\n",
      "  sns.boxplot(x='Gender', y='Weight', data=data, palette='muted')\n"
     ]
    },
    {
     "data": {
      "image/png": "[encoded data removed]",
      "text/plain": [
       "<Figure size 1800x500 with 1 Axes>"
      ]
     },
     "metadata": {},
     "output_type": "display_data"
    }
   ],
   "source": [
    "# Построение box plot\n",
    "plt.figure(figsize=(18, 5))\n",
    "\n",
    "# Вес\n",
    "plt.subplot(1, 3, 2)\n",
    "sns.boxplot(x='Gender', y='Weight', data=data, palette='muted')\n",
    "plt.title('Box Plot веса по полу')\n",
    "\n",
    "plt.tight_layout()\n",
    "plt.show()"
   ]
  },
  {
   "cell_type": "code",
   "execution_count": 27,
   "metadata": {},
   "outputs": [
    {
     "name": "stderr",
     "output_type": "stream",
     "text": [
      "C:\\Users\\SanzharSabyr\\AppData\\Local\\Temp\\ipykernel_9448\\3838354348.py:6: FutureWarning: \n",
      "\n",
      "Passing `palette` without assigning `hue` is deprecated and will be removed in v0.14.0. Assign the `x` variable to `hue` and set `legend=False` for the same effect.\n",
      "\n",
      "  sns.boxplot(x='Gender', y='BMI', data=data, palette='Set2')\n"
     ]
    },
    {
     "data": {
      "image/png": "[encoded data removed]",
      "text/plain": [
       "<Figure size 1800x500 with 1 Axes>"
      ]
     },
     "metadata": {},
     "output_type": "display_data"
    }
   ],
   "source": [
    "# Построение box plot\n",
    "plt.figure(figsize=(18, 5))\n",
    "\n",
    "# BMI\n",
    "plt.subplot(1, 3, 3)\n",
    "sns.boxplot(x='Gender', y='BMI', data=data, palette='Set2')\n",
    "plt.title('Box Plot BMI по полу')\n",
    "\n",
    "plt.tight_layout()\n",
    "plt.show()"
   ]
  },
  {
   "cell_type": "markdown",
   "metadata": {
    "_cell_guid": "d35c0bc1-dfe1-4f51-aa1e-9da236c97fa2",
    "_uuid": "a3e23a58-07ea-4b70-a2ff-6abea507f7cc"
   },
   "source": [
    "## 7. Посчитайте межквартильный размах для роста, веса, BMI."
   ]
  },
  {
   "cell_type": "code",
   "execution_count": 28,
   "metadata": {},
   "outputs": [
    {
     "name": "stdout",
     "output_type": "stream",
     "text": [
      "Межквартильный размах (IQR):\n",
      " Height    28.000000\n",
      "Weight    56.000000\n",
      "BMI       19.221115\n",
      "dtype: float64\n"
     ]
    }
   ],
   "source": [
    "# Расчёт межквартильного размаха (IQR)\n",
    "Q1 = data[['Height', 'Weight', 'BMI']].quantile(0.25)\n",
    "Q3 = data[['Height', 'Weight', 'BMI']].quantile(0.75)\n",
    "IQR = Q3 - Q1\n",
    "\n",
    "print(\"Межквартильный размах (IQR):\\n\", IQR)"
   ]
  },
  {
   "cell_type": "markdown",
   "metadata": {
    "_cell_guid": "f2be9483-7802-411b-9f0a-491835ae6c56",
    "_uuid": "c9ef2251-ed1a-4f36-ba8a-ac121e1dafe1"
   },
   "source": [
    "## 8. Есть ли в данных какие-то выбросы для роста, веса, BMI? Как можно их найти? Используя межквартильный размах? Удалите все такие выбросы из таблицы."
   ]
  },
  {
   "cell_type": "code",
   "execution_count": 29,
   "metadata": {},
   "outputs": [
    {
     "name": "stdout",
     "output_type": "stream",
     "text": [
      "Размер до очистки: (500, 5)\n",
      "Размер после очистки: (497, 5)\n"
     ]
    }
   ],
   "source": [
    "# Функция для удаления выбросов по IQR\n",
    "def remove_outliers_iqr(df, column):\n",
    "    Q1 = df[column].quantile(0.25)\n",
    "    Q3 = df[column].quantile(0.75)\n",
    "    IQR = Q3 - Q1\n",
    "    lower_bound = Q1 - 1.5 * IQR\n",
    "    upper_bound = Q3 + 1.5 * IQR\n",
    "    return df[(df[column] >= lower_bound) & (df[column] <= upper_bound)]\n",
    "\n",
    "# Удаление выбросов\n",
    "data_cleaned = remove_outliers_iqr(data, 'Height')\n",
    "data_cleaned = remove_outliers_iqr(data_cleaned, 'Weight')\n",
    "data_cleaned = remove_outliers_iqr(data_cleaned, 'BMI')\n",
    "\n",
    "# Сравнение размеров\n",
    "print(\"Размер до очистки:\", data.shape)\n",
    "print(\"Размер после очистки:\", data_cleaned.shape)"
   ]
  },
  {
   "cell_type": "markdown",
   "metadata": {},
   "source": [
    "______________________________"
   ]
  }
 ],
 "metadata": {
  "kernelspec": {
   "display_name": "Python 3 (ipykernel)",
   "language": "python",
   "name": "python3"
  },
  "language_info": {
   "codemirror_mode": {
    "name": "ipython",
    "version": 3
   },
   "file_extension": ".py",
   "mimetype": "text/x-python",
   "name": "python",
   "nbconvert_exporter": "python",
   "pygments_lexer": "ipython3",
   "version": "3.13.5"
  }
 },
 "nbformat": 4,
 "nbformat_minor": 4
}
