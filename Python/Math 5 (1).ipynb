{
 "cells": [
  {
   "cell_type": "markdown",
   "id": "aff4d295",
   "metadata": {},
   "source": [
    "- Используя модуль $\\texttt{random}$, создайте массив NumPy с 2 строками и 3 столбцами, в котором есть записи, представляющие собой случайные положительные целые числа меньше 10. Распечатайте свой массив. Измените запись в первой строке второго столбца на 8 и удвойте значение во второй строке третьего столбца. Распечатайте полученный массив, чтобы убедиться, что ваш код внес правильные изменения."
   ]
  },
  {
   "cell_type": "code",
   "execution_count": 1,
   "id": "07854f6c",
   "metadata": {},
   "outputs": [
    {
     "name": "stdout",
     "output_type": "stream",
     "text": [
      "Original array:\n",
      "[[5 6 4]\n",
      " [7 5 8]]\n",
      "\n",
      "Modified array:\n",
      "[[ 5  8  4]\n",
      " [ 7  5 16]]\n"
     ]
    }
   ],
   "source": [
    "import numpy as np\n",
    "import random\n",
    "\n",
    "# Create a 2x3 array with random integers from 0 to 9 (excluding 10)\n",
    "array = np.array([[random.randint(0, 9) for _ in range(3)] for _ in range(2)])\n",
    "\n",
    "# Print the original array\n",
    "print(\"Original array:\")\n",
    "print(array)\n",
    "\n",
    "# Modify the element in the first row, second column to 8\n",
    "array[0][1] = 8\n",
    "\n",
    "# Double the value in the second row, third column\n",
    "array[1][2] *= 2\n",
    "\n",
    "# Print the modified array\n",
    "print(\"\\nModified array:\")\n",
    "print(array)"
   ]
  },
  {
   "cell_type": "markdown",
   "id": "fb6fb31d",
   "metadata": {},
   "source": [
    "- Используя модуль $\\texttt{random}$, создайте массив NumPy с 3 строками и 3 столбцами, в котором есть записи, представляющие собой случайные положительные целые числа меньше 10. Распечатайте свой массив. Теперь умножьте каждое значение в матрице на 5, а затем добавьте 1 ко всем элементам во второй строке. После этого разделите каждую диагональную запись на 2 и распечатайте полученный массив, чтобы убедиться, что ваш код внес правильные изменения."
   ]
  },
  {
   "cell_type": "code",
   "execution_count": 2,
   "id": "8252b9fb",
   "metadata": {},
   "outputs": [
    {
     "name": "stdout",
     "output_type": "stream",
     "text": [
      "Original array:\n",
      "[[0 4 3]\n",
      " [5 3 3]\n",
      " [8 7 9]]\n",
      "\n",
      "Modified array:\n",
      "[[ 0 20 15]\n",
      " [26  8 16]\n",
      " [40 35 22]]\n"
     ]
    }
   ],
   "source": [
    "# Create a 3x3 array with random integers less than 10\n",
    "array = np.array([[random.randint(0, 9) for _ in range(3)] for _ in range(3)])\n",
    "print(\"Original array:\")\n",
    "print(array)\n",
    "\n",
    "# Multiply all elements by 5\n",
    "array *= 5\n",
    "\n",
    "# Add 1 to all elements in the second row (index 1)\n",
    "array[1] += 1\n",
    "\n",
    "# Divide diagonal elements by 2\n",
    "for i in range(3):\n",
    "    array[i, i] //= 2  # Use integer division to keep integers\n",
    "\n",
    "print(\"\\nModified array:\")\n",
    "print(array)"
   ]
  },
  {
   "cell_type": "markdown",
   "id": "dadbaaae",
   "metadata": {},
   "source": [
    "- Используя модуль $\\texttt{random}$, создайте массив NumPy с 2 строками и 3 столбцами, в котором элементы являются случайными целыми числами больше 5 и меньше 13. Напишите код, который заменяет все четные элементы матрицы на 0. Распечатайте массив и проверьте результаты. Запустите код несколько раз, чтобы убедиться, что он работает для *разных* случайных массивов."
   ]
  },
  {
   "cell_type": "code",
   "execution_count": 10,
   "id": "62ef13cf-bccc-485e-a2b1-2eeb4644618e",
   "metadata": {},
   "outputs": [
    {
     "name": "stdout",
     "output_type": "stream",
     "text": [
      "[[ 0  0  0]\n",
      " [11 11  7]]\n"
     ]
    }
   ],
   "source": [
    "# Function to create a 2x3 array with random integers and replace even numbers with 0\n",
    "def create_and_modify_array():\n",
    "    # Generate a list of random integers between 6 and 12\n",
    "    random_numbers = [random.randint(6, 12) for _ in range(6)]\n",
    "    \n",
    "    # Create a 2x3 NumPy array from the list\n",
    "    array = np.array(random_numbers).reshape(2, 3)\n",
    "    \n",
    "    # Replace all even elements with 0\n",
    "    array[array % 2 == 0] = 0\n",
    "    \n",
    "    return array\n",
    "\n",
    "# Call the function and print the result\n",
    "result_array = create_and_modify_array()\n",
    "print(result_array)"
   ]
  },
  {
   "cell_type": "markdown",
   "id": "0c2086ae",
   "metadata": {},
   "source": [
    "- Используйте matplotlib для построения кривой $y= 4+x-0,5x^2$, где $x$ лежит в интервале $[-1,5]$. Используйте $\\texttt{linspace}$ для создания массива координат точек на кривой. Кривая должна быть пунктирной и показана зеленым цветом."
   ]
  },
  {
   "cell_type": "code",
   "execution_count": 11,
   "id": "db08b0bb",
   "metadata": {},
   "outputs": [
    {
     "data": {
      "image/png": "[encoded data removed]",
      "text/plain": [
       "<Figure size 640x480 with 1 Axes>"
      ]
     },
     "metadata": {},
     "output_type": "display_data"
    }
   ],
   "source": [
    "import matplotlib.pyplot as plt\n",
    "\n",
    "# Create an array of x values from -1 to 5\n",
    "x = np.linspace(-1, 5, 100)\n",
    "\n",
    "# Calculate the corresponding y values\n",
    "y = 4 + x - 0.5 * x ** 2\n",
    "\n",
    "# Create the plot with dashed green line\n",
    "plt.plot(x, y, linestyle='--', color='green')\n",
    "\n",
    "# Add grid, title and axis labels\n",
    "plt.grid(True)\n",
    "plt.title('Plot of $y = 4 + x - 0.5x^2$')\n",
    "plt.xlabel('x')\n",
    "plt.ylabel('y')\n",
    "\n",
    "# Show the plot\n",
    "plt.show()"
   ]
  },
  {
   "cell_type": "markdown",
   "id": "1a644802",
   "metadata": {},
   "source": [
    "- Сколькими способами 23 ребенка могут сесть на 23 стула на уроке математики?"
   ]
  },
  {
   "cell_type": "code",
   "execution_count": 13,
   "id": "a8d3667e",
   "metadata": {},
   "outputs": [
    {
     "name": "stdout",
     "output_type": "stream",
     "text": [
      "25852016738884976640000\n"
     ]
    }
   ],
   "source": [
    "# Function to calculate factorial\n",
    "def factorial(n):\n",
    "    result = 1\n",
    "    for i in range(1, n + 1):\n",
    "        result *= i\n",
    "    return result\n",
    "\n",
    "# Calculate the factorial of 23\n",
    "ways = factorial(23)\n",
    "print(ways)"
   ]
  },
  {
   "cell_type": "markdown",
   "id": "5bed34f1",
   "metadata": {},
   "source": [
    "- Сколько различных способов есть у любых 2 из 5 учеников, чтобы сесть на 2 стула? То есть нужно посчитать количество рассадок для 2 учеников из 5 учеников чтобы сесть на 2 стула"
   ]
  },
  {
   "cell_type": "code",
   "execution_count": 16,
   "id": "6b3bb777",
   "metadata": {},
   "outputs": [
    {
     "name": "stdout",
     "output_type": "stream",
     "text": [
      "20\n"
     ]
    }
   ],
   "source": [
    "# Number of students\n",
    "n = 5\n",
    "r = 2\n",
    "\n",
    "# Calculate combinations C(5, 2)\n",
    "combinations = math.comb(n, r)\n",
    "\n",
    "# Calculate arrangements for the chosen students\n",
    "arrangements = math.factorial(r)\n",
    "\n",
    "# Total ways\n",
    "total_ways = combinations * arrangements\n",
    "print(total_ways)"
   ]
  },
  {
   "cell_type": "markdown",
   "id": "0f2ac891",
   "metadata": {},
   "source": [
    "- У вас в классе учится 30 человек. Сколько разных футбольных команд можно сделать, где команда состоит из 7 человек (учитывайте что Галымбек, Алмас, Багдат и Багдат, Алмас, Галымбек это одна и та же команда, и мы должны учитывать только одну команду)"
   ]
  },
  {
   "cell_type": "code",
   "execution_count": 17,
   "id": "cce2f62e",
   "metadata": {},
   "outputs": [
    {
     "name": "stdout",
     "output_type": "stream",
     "text": [
      "2035800\n"
     ]
    }
   ],
   "source": [
    "# Total number of students\n",
    "n = 30\n",
    "# Number of players in the team\n",
    "r = 7\n",
    "\n",
    "# Calculate combinations C(30, 7)\n",
    "combinations = math.comb(n, r)\n",
    "print(combinations)"
   ]
  },
  {
   "cell_type": "code",
   "execution_count": null,
   "id": "cb1356ec-99d5-46e9-ac1d-dfe0a9d89b9d",
   "metadata": {},
   "outputs": [],
   "source": []
  }
 ],
 "metadata": {
  "kernelspec": {
   "display_name": "Python 3 (ipykernel)",
   "language": "python",
   "name": "python3"
  },
  "language_info": {
   "codemirror_mode": {
    "name": "ipython",
    "version": 3
   },
   "file_extension": ".py",
   "mimetype": "text/x-python",
   "name": "python",
   "nbconvert_exporter": "python",
   "pygments_lexer": "ipython3",
   "version": "3.13.5"
  }
 },
 "nbformat": 4,
 "nbformat_minor": 5
}
