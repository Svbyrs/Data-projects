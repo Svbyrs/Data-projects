{
 "cells": [
  {
   "cell_type": "code",
   "execution_count": 49,
   "id": "3e10f7e1-8cbf-4001-bc24-eb13bf26b089",
   "metadata": {},
   "outputs": [
    {
     "name": "stdout",
     "output_type": "stream",
     "text": [
      "1,Magzhan,Kairanbay,magzhan.kairanbay@gmail.com,1991\n",
      "2,John,See,john.see@gmail.com,1981\n",
      "3,Lim,Kim,lim.kim@gmail.com,1997\n",
      "4,Andrew,Ng,andrew.ng@gmail.com,1971\n",
      "5,Andrey,Karpathy,andrey.karpathy@gmail.com,1981\n",
      "6,Jackie,Chan,jeckie.chan@gmail.com,1951\n",
      "7,Clarence,Lim,clarence.lim@gmail.com,1985\n",
      "8,Ryan,Jack,ryan.jack@gmail.com,1994\n",
      "9,Jonattan,Clark,jonattan.clark@gmail.com,2000\n",
      "10,Chris,Brown,chris.brown@gmail.com,1989\n",
      "11,Justin,Bieber,justin.bieber@gmail.com,1992\n"
     ]
    }
   ],
   "source": [
    "# Question 1\n",
    "filename = \"users.txt\" \n",
    "\n",
    "try:\n",
    "    with open(filename, 'r') as file:  \n",
    "        for line in file:  \n",
    "            print(line.strip())  \n",
    "except FileNotFoundError:\n",
    "    print(\"the file that you would like to read is not found\")  \n",
    "except Exception:\n",
    "    print(\"some error occurred\")  "
   ]
  },
  {
   "cell_type": "code",
   "execution_count": 48,
   "id": "f28a51bf-23e8-4bd8-b803-1ba794a70a28",
   "metadata": {},
   "outputs": [
    {
     "name": "stdout",
     "output_type": "stream",
     "text": [
      "Пользователь Severus Snape имеет возраст: 63 лет.\n",
      "Почта Пользователя Severus Snape: severus.snape@hogwarts.com.\n"
     ]
    }
   ],
   "source": [
    "# Question 2\n",
    "class Users:\n",
    "    def __init__(self, user_id, first_name, last_name, birth_year, email):\n",
    "        self.user_id = user_id\n",
    "        self.first_name = first_name  \n",
    "        self.last_name = last_name     \n",
    "        self.birth_year = birth_year    \n",
    "        self.email = email              \n",
    "\n",
    "    def getAge(self):\n",
    "        current_year = 2023 \n",
    "        return current_year - self.birth_year\n",
    "\n",
    "    def getEmail(self):\n",
    "        return self.email\n",
    "\n",
    "user1 = Users(1,\"Severus\", \"Snape\", 1960, \"severus.snape@hogwarts.com\")  \n",
    "\n",
    "age = user1.getAge()\n",
    "print(f\"Пользователь {user1.first_name} {user1.last_name} имеет возраст: {age} лет.\")\n",
    "email = user1.getEmail()\n",
    "print(f\"Почта Пользователя {user1.first_name} {user1.last_name}: {email}.\")"
   ]
  },
  {
   "cell_type": "code",
   "execution_count": 34,
   "id": "752dd165-822f-446b-a1a6-41db83d37f13",
   "metadata": {},
   "outputs": [
    {
     "name": "stdout",
     "output_type": "stream",
     "text": [
      "Id: 1, Имя: Magzhan, Фамилия: Kairanbay, Электронная почта: magzhan.kairanbay@gmail.com, Год рождения: 1991 Возраст: 32 лет\n",
      "Id: 2, Имя: John, Фамилия: See, Электронная почта: john.see@gmail.com, Год рождения: 1981 Возраст: 42 лет\n",
      "Id: 3, Имя: Lim, Фамилия: Kim, Электронная почта: lim.kim@gmail.com, Год рождения: 1997 Возраст: 26 лет\n",
      "Id: 4, Имя: Andrew, Фамилия: Ng, Электронная почта: andrew.ng@gmail.com, Год рождения: 1971 Возраст: 52 лет\n",
      "Id: 5, Имя: Andrey, Фамилия: Karpathy, Электронная почта: andrey.karpathy@gmail.com, Год рождения: 1981 Возраст: 42 лет\n",
      "Id: 6, Имя: Jackie, Фамилия: Chan, Электронная почта: jeckie.chan@gmail.com, Год рождения: 1951 Возраст: 72 лет\n",
      "Id: 7, Имя: Clarence, Фамилия: Lim, Электронная почта: clarence.lim@gmail.com, Год рождения: 1985 Возраст: 38 лет\n",
      "Id: 8, Имя: Ryan, Фамилия: Jack, Электронная почта: ryan.jack@gmail.com, Год рождения: 1994 Возраст: 29 лет\n",
      "Id: 9, Имя: Jonattan, Фамилия: Clark, Электронная почта: jonattan.clark@gmail.com, Год рождения: 2000 Возраст: 23 лет\n",
      "Id: 10, Имя: Chris, Фамилия: Brown, Электронная почта: chris.brown@gmail.com, Год рождения: 1989 Возраст: 34 лет\n",
      "Id: 11, Имя: Justin, Фамилия: Bieber, Электронная почта: justin.bieber@gmail.com, Год рождения: 1992 Возраст: 31 лет\n"
     ]
    }
   ],
   "source": [
    "# Question 3\n",
    "class Users:\n",
    "    def __init__(self, user_id, first_name, last_name, email, birth_year):\n",
    "        self.user_id = user_id\n",
    "        self.first_name = first_name\n",
    "        self.last_name = last_name\n",
    "        self.email = email\n",
    "        self.birth_year = birth_year\n",
    "\n",
    "    def getAge(self):\n",
    "        current_year = 2023\n",
    "        return current_year - self.birth_year\n",
    "\n",
    "users_list = []\n",
    "\n",
    "try:\n",
    "    with open('users.txt', 'r') as file:\n",
    "        for line in file:\n",
    "            line = line.strip()\n",
    "            parts = line.split(',')\n",
    "            if len(parts) == 5: \n",
    "                user_id = parts[0]\n",
    "                first_name = parts[1]\n",
    "                last_name = parts[2]\n",
    "                email = parts[3]\n",
    "                birth_year = int(parts[4])  \n",
    "                \n",
    "                user = Users(user_id, first_name, last_name, email, birth_year)\n",
    "                users_list.append(user)\n",
    "                \n",
    "except FileNotFoundError:\n",
    "    print(\"the file that you would like to read is not found\")\n",
    "except Exception:\n",
    "    print(\"some error occured\")\n",
    "\n",
    "for user in users_list:\n",
    "    print(f\"Id: {user.user_id}, Имя: {user.first_name}, Фамилия: {user.last_name}, Электронная почта: {user.email}, \"\n",
    "          f\"Год рождения: {user.birth_year} Возраст: {user.getAge()} лет\")"
   ]
  },
  {
   "cell_type": "code",
   "execution_count": 47,
   "id": "56a7eee5-bf54-4641-95fe-83a6c2115282",
   "metadata": {},
   "outputs": [
    {
     "name": "stdout",
     "output_type": "stream",
     "text": [
      "magzhan.kairanbay@gmail.com, 32\n",
      "john.see@gmail.com, 42\n",
      "andrey.karpathy@gmail.com, 42\n",
      "clarence.lim@gmail.com, 38\n",
      "chris.brown@gmail.com, 34\n",
      "justin.bieber@gmail.com, 31\n"
     ]
    }
   ],
   "source": [
    "# Question 4\n",
    "class Users:\n",
    "    def __init__(self, user_id, first_name, last_name, email, birth_year):\n",
    "        self.user_id = user_id\n",
    "        self.first_name = first_name\n",
    "        self.last_name = last_name\n",
    "        self.email = email\n",
    "        self.birth_year = birth_year\n",
    "\n",
    "    def getAge(self):\n",
    "        current_year = 2023\n",
    "        return current_year - self.birth_year\n",
    "\n",
    "def filter(low=30, high=50, users=[]):\n",
    "    filtered_users = []\n",
    "    for user in users:\n",
    "        age = user.getAge()\n",
    "        if low < age < high:\n",
    "            filtered_users.append((user.email, age))\n",
    "    \n",
    "    for email, age in filtered_users:\n",
    "        print(f\"{email}, {age}\")\n",
    "\n",
    "users_list = []\n",
    "\n",
    "try:\n",
    "    with open('users.txt', 'r') as file: \n",
    "        for line in file:\n",
    "            parts = line.strip().split(',')\n",
    "            if len(parts) == 5: \n",
    "                user_id = parts[0]\n",
    "                first_name = parts[1]\n",
    "                last_name = parts[2]\n",
    "                email = parts[3]\n",
    "                birth_year = int(parts[4])  \n",
    "                \n",
    "                user = Users(user_id, first_name, last_name, email, birth_year)\n",
    "                users_list.append(user)\n",
    "except FileNotFoundError:\n",
    "    print(\"the file that you would like to read is not found\")\n",
    "except Exception:\n",
    "    print(\"some error occured\")\n",
    "\n",
    "filter(30, 50, users_list)\n"
   ]
  },
  {
   "cell_type": "code",
   "execution_count": null,
   "id": "0c2fe727-3198-4f63-a2d2-69c14375c505",
   "metadata": {},
   "outputs": [],
   "source": []
  }
 ],
 "metadata": {
  "kernelspec": {
   "display_name": "Python 3 (ipykernel)",
   "language": "python",
   "name": "python3"
  },
  "language_info": {
   "codemirror_mode": {
    "name": "ipython",
    "version": 3
   },
   "file_extension": ".py",
   "mimetype": "text/x-python",
   "name": "python",
   "nbconvert_exporter": "python",
   "pygments_lexer": "ipython3",
   "version": "3.12.7"
  }
 },
 "nbformat": 4,
 "nbformat_minor": 5
}
